{
 "cells": [
  {
   "cell_type": "code",
   "execution_count": null,
   "id": "afab06c1-2a2b-49a1-9200-05b3702d3ea8",
   "metadata": {},
   "outputs": [],
   "source": [
    "print('x')"
   ]
  },
  {
   "cell_type": "code",
   "execution_count": null,
   "id": "da2e4f67-fe20-4d3c-8f0d-b1d4ad3c269f",
   "metadata": {},
   "outputs": [],
   "source": []
  }
 ],
 "metadata": {
  "kernelspec": {
   "display_name": "Python 3 (ipykernel)",
   "language": "python",
   "name": "python3"
  },
  "language_info": {
   "name": ""
  }
 },
 "nbformat": 4,
 "nbformat_minor": 5
}
